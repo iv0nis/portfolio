{
 "cells": [
  {
   "cell_type": "markdown",
   "metadata": {},
   "source": [
    "# Actividad 10: Las diferentes API de Spark\n",
    "### Ivonis Florindo"
   ]
  },
  {
   "cell_type": "markdown",
   "metadata": {},
   "source": [
    "## Primera Parte: Spark sobre datos de automóviles."
   ]
  },
  {
   "cell_type": "code",
   "execution_count": 26,
   "metadata": {
    "execution": {
     "iopub.execute_input": "2025-06-11T13:42:58.071093Z",
     "iopub.status.busy": "2025-06-11T13:42:58.070803Z",
     "iopub.status.idle": "2025-06-11T13:42:58.077025Z",
     "shell.execute_reply": "2025-06-11T13:42:58.075377Z",
     "shell.execute_reply.started": "2025-06-11T13:42:58.071071Z"
    },
    "trusted": true
   },
   "outputs": [],
   "source": [
    "from pyspark.sql import SparkSession\n",
    "from pyspark.sql import functions as F\n",
    "from pyspark.sql.window import Window\n",
    "from pyspark.sql.functions import row_number\n",
    "\n",
    "import pandas as pd"
   ]
  },
  {
   "cell_type": "code",
   "execution_count": null,
   "metadata": {
    "execution": {
     "iopub.execute_input": "2025-06-11T13:42:58.080745Z",
     "iopub.status.busy": "2025-06-11T13:42:58.080404Z",
     "iopub.status.idle": "2025-06-11T13:42:58.580699Z",
     "shell.execute_reply": "2025-06-11T13:42:58.578499Z",
     "shell.execute_reply.started": "2025-06-11T13:42:58.080722Z"
    },
    "trusted": true
   },
   "outputs": [
    {
     "name": "stdout",
     "output_type": "stream",
     "text": [
      "root\n",
      " |-- Car: string (nullable = true)\n",
      " |-- MPG: double (nullable = true)\n",
      " |-- Cylinders: integer (nullable = true)\n",
      " |-- Displacement: double (nullable = true)\n",
      " |-- Horsepower: double (nullable = true)\n",
      " |-- Weight: decimal(4,0) (nullable = true)\n",
      " |-- Acceleration: double (nullable = true)\n",
      " |-- Model: integer (nullable = true)\n",
      " |-- Origin: string (nullable = true)\n",
      "\n",
      "+--------------------+----+---------+------------+----------+------+------------+-----+------+\n",
      "|                 Car| MPG|Cylinders|Displacement|Horsepower|Weight|Acceleration|Model|Origin|\n",
      "+--------------------+----+---------+------------+----------+------+------------+-----+------+\n",
      "|Chevrolet Chevell...|18.0|        8|       307.0|     130.0|  3504|        12.0|   70|    US|\n",
      "|   Buick Skylark 320|15.0|        8|       350.0|     165.0|  3693|        11.5|   70|    US|\n",
      "|  Plymouth Satellite|18.0|        8|       318.0|     150.0|  3436|        11.0|   70|    US|\n",
      "|       AMC Rebel SST|16.0|        8|       304.0|     150.0|  3433|        12.0|   70|    US|\n",
      "|         Ford Torino|17.0|        8|       302.0|     140.0|  3449|        10.5|   70|    US|\n",
      "+--------------------+----+---------+------------+----------+------+------------+-----+------+\n",
      "only showing top 5 rows\n",
      "\n"
     ]
    }
   ],
   "source": [
    "# Se crea una sesión de Spark\n",
    "spark = SparkSession.builder \\\n",
    "    .appName(\"Actividad10_cars\") \\\n",
    "    .getOrCreate()\n",
    "\n",
    "# Se lee el CSV de automóviles\n",
    "df = spark.read.csv(\"/kaggle/input//cars-csv/cars.csv\", header=True, inferSchema=True, sep=\";\")\n",
    "\n",
    "# Ver el esquema\n",
    "df.printSchema()\n",
    "\n",
    "# Mostrar las 5 primeras filas\n",
    "df.show(5)"
   ]
  },
  {
   "cell_type": "code",
   "execution_count": 28,
   "metadata": {
    "execution": {
     "iopub.execute_input": "2025-06-11T13:42:58.582522Z",
     "iopub.status.busy": "2025-06-11T13:42:58.582169Z",
     "iopub.status.idle": "2025-06-11T13:42:58.798935Z",
     "shell.execute_reply": "2025-06-11T13:42:58.797968Z",
     "shell.execute_reply.started": "2025-06-11T13:42:58.582493Z"
    },
    "trusted": true
   },
   "outputs": [
    {
     "name": "stdout",
     "output_type": "stream",
     "text": [
      "+--------------------+---------+\n",
      "|                 Car|Cylinders|\n",
      "+--------------------+---------+\n",
      "|Citroen DS-21 Pallas|        4|\n",
      "|Volkswagen 1131 D...|        4|\n",
      "|         Peugeot 504|        4|\n",
      "|         Audi 100 LS|        4|\n",
      "|            Saab 99e|        4|\n",
      "|            BMW 2002|        4|\n",
      "|Volkswagen Super ...|        4|\n",
      "|           Opel 1900|        4|\n",
      "|         Peugeot 304|        4|\n",
      "|           Fiat 124B|        4|\n",
      "|Volkswagen Model 111|        4|\n",
      "|   Volkswagen Type 3|        4|\n",
      "|     Volvo 145e (sw)|        4|\n",
      "| Volkswagen 411 (sw)|        4|\n",
      "|    Peugeot 504 (sw)|        4|\n",
      "|     Renault 12 (sw)|        4|\n",
      "|Volkswagen Super ...|        4|\n",
      "|Fiat 124 Sport Coupe|        4|\n",
      "|            Fiat 128|        4|\n",
      "|          Opel Manta|        4|\n",
      "+--------------------+---------+\n",
      "only showing top 20 rows\n",
      "\n"
     ]
    }
   ],
   "source": [
    "# Mostrar columnas \"Car\" y \"Cylinders cuyo origen sea \"Europe\"\"\n",
    "df.select(\"Car\", \"Cylinders\") \\\n",
    "  .filter(df.Origin == \"Europe\") \\\n",
    "  .show()\n"
   ]
  },
  {
   "cell_type": "code",
   "execution_count": null,
   "metadata": {
    "execution": {
     "iopub.execute_input": "2025-06-11T13:42:58.800353Z",
     "iopub.status.busy": "2025-06-11T13:42:58.799978Z",
     "iopub.status.idle": "2025-06-11T13:42:59.270312Z",
     "shell.execute_reply": "2025-06-11T13:42:59.268988Z",
     "shell.execute_reply.started": "2025-06-11T13:42:58.800323Z"
    },
    "trusted": true
   },
   "outputs": [
    {
     "name": "stdout",
     "output_type": "stream",
     "text": [
      "+------+------------------+------------+------------------+\n",
      "|Origin|  Media_Horsepower|Media_Weight|Media_Acceleration|\n",
      "+------+------------------+------------+------------------+\n",
      "|Europe| 78.78082191780823|   2431.4932| 16.82191780821918|\n",
      "|    US|118.01181102362204|   3372.7008|14.942519685039361|\n",
      "| Japan| 79.83544303797468|   2221.2278|16.172151898734175|\n",
      "+------+------------------+------------+------------------+\n",
      "\n"
     ]
    }
   ],
   "source": [
    "# Se obtiene la media de Horsepower, \"Weight\" y \"Acceleration\" por \"Origin\"\n",
    "df.groupBy(\"Origin\").agg(\n",
    "    F.avg(\"Horsepower\").alias(\"Media_Horsepower\"),\n",
    "    F.avg(\"Weight\").alias(\"Media_Weight\"),\n",
    "    F.avg(\"Acceleration\").alias(\"Media_Acceleration\")\n",
    ").show()\n"
   ]
  },
  {
   "cell_type": "code",
   "execution_count": null,
   "metadata": {
    "execution": {
     "iopub.execute_input": "2025-06-11T13:42:59.274775Z",
     "iopub.status.busy": "2025-06-11T13:42:59.274418Z",
     "iopub.status.idle": "2025-06-11T13:43:00.027756Z",
     "shell.execute_reply": "2025-06-11T13:43:00.026266Z",
     "shell.execute_reply.started": "2025-06-11T13:42:59.274746Z"
    },
    "trusted": true
   },
   "outputs": [
    {
     "name": "stdout",
     "output_type": "stream",
     "text": [
      "+---------+-------------------------------+----------+------+--------------------+\n",
      "|Cylinders|Car                            |Horsepower|Weight|PowerToWeightRatio  |\n",
      "+---------+-------------------------------+----------+------+--------------------+\n",
      "|3        |Mazda RX3                      |90.0      |2124  |0.0423728813559322  |\n",
      "|4        |BMW 2002                       |113.0     |2234  |0.050581915846016116|\n",
      "|5        |Audi 5000                      |103.0     |2830  |0.036395759717314485|\n",
      "|6        |Buick Regal Sport Coupe (turbo)|165.0     |3445  |0.047895500725689405|\n",
      "|8        |Buick Estate Wagon (sw)        |225.0     |3086  |0.0729099157485418  |\n",
      "+---------+-------------------------------+----------+------+--------------------+\n",
      "\n",
      "+---------+--------------------+\n",
      "|Cylinders|    AvgPowerToWeight|\n",
      "+---------+--------------------+\n",
      "|        6| 0.03163238614784404|\n",
      "|        3|0.041441818290915214|\n",
      "|        5|0.026973551761855744|\n",
      "|        4|0.033217183371144564|\n",
      "|        8| 0.03872856292574305|\n",
      "+---------+--------------------+\n",
      "\n"
     ]
    }
   ],
   "source": [
    "# Se crea nueva columna con el ratio entre potencia y peso\n",
    "# lo que en argot automovilístico se conoce como Power-to-weight ratio\"\n",
    "df = df.withColumn(\"PowerToWeightRatio\", F.col(\"Horsepower\") / F.col(\"Weight\"))\n",
    "\n",
    "# Se crea una ventana particionada por cilindros y ordenada por PowerToWeightRatio descendente\n",
    "windowSpec = Window.partitionBy(\"Cylinders\").orderBy(F.col(\"PowerToWeightRatio\").desc())\n",
    "\n",
    "# Se añade un número de fila para cada grupo\n",
    "df_top = df.withColumn(\"row_num\", row_number().over(windowSpec))\n",
    "\n",
    "# Se filtra solo la primera fila de cada grupo (el top 1 por cilindros)\n",
    "df_top.filter(F.col(\"row_num\") == 1) \\\n",
    "    .select(\"Cylinders\", \"Car\", \"Horsepower\", \"Weight\", \"PowerToWeightRatio\") \\\n",
    "    .orderBy(\"Cylinders\") \\\n",
    "    .show(truncate=False)\n",
    "\n",
    "# Se calcula la media del Power-to-weight ratio por número de cilindros\n",
    "df.groupBy(\"Cylinders\") \\\n",
    "  .agg(F.avg(\"PowerToWeightRatio\").alias(\"AvgPowerToWeight\")) \\\n",
    "  .show()"
   ]
  },
  {
   "cell_type": "markdown",
   "metadata": {},
   "source": [
    "## Segunda Parte: Spark sobre datos de automóviles."
   ]
  },
  {
   "cell_type": "code",
   "execution_count": 34,
   "metadata": {
    "execution": {
     "iopub.execute_input": "2025-06-11T13:44:15.927846Z",
     "iopub.status.busy": "2025-06-11T13:44:15.927567Z",
     "iopub.status.idle": "2025-06-11T13:44:15.933655Z",
     "shell.execute_reply": "2025-06-11T13:44:15.932559Z",
     "shell.execute_reply.started": "2025-06-11T13:44:15.927827Z"
    },
    "trusted": true
   },
   "outputs": [],
   "source": [
    "# Imports\n",
    "from pyspark.sql.functions import expr\n",
    "from pyspark.sql import Row"
   ]
  },
  {
   "cell_type": "code",
   "execution_count": null,
   "metadata": {
    "execution": {
     "iopub.execute_input": "2025-06-11T13:43:00.029474Z",
     "iopub.status.busy": "2025-06-11T13:43:00.029097Z",
     "iopub.status.idle": "2025-06-11T13:43:00.583039Z",
     "shell.execute_reply": "2025-06-11T13:43:00.581778Z",
     "shell.execute_reply.started": "2025-06-11T13:43:00.029442Z"
    },
    "trusted": true
   },
   "outputs": [
    {
     "name": "stdout",
     "output_type": "stream",
     "text": [
      "+----+---+---+---+---+---+\n",
      "| ANO|MES|DIA|H01|H02|H03|\n",
      "+----+---+---+---+---+---+\n",
      "|2020|  1|  1|7.0|8.0|9.0|\n",
      "|2020|  1|  2|8.0|8.0|7.0|\n",
      "|2020|  1|  3|9.0|8.0|7.0|\n",
      "|2020|  1|  4|7.0|5.0|6.0|\n",
      "|2020|  1|  5|8.0|6.0|5.0|\n",
      "+----+---+---+---+---+---+\n",
      "only showing top 5 rows\n",
      "\n",
      "['PROVINCIA', 'MUNICIPIO', 'ESTACION', 'MAGNITUD', 'PUNTO_MUESTREO', 'ANO', 'MES', 'DIA', 'H01', 'V01', 'H02', 'V02', 'H03', 'V03', 'H04', 'V04', 'H05', 'V05', 'H06', 'V06', 'H07', 'V07', 'H08', 'V08', 'H09', 'V09', 'H10', 'V10', 'H11', 'V11', 'H12', 'V12', 'H13', 'V13', 'H14', 'V14', 'H15', 'V15', 'H16', 'V16', 'H17', 'V17', 'H18', 'V18', 'H19', 'V19', 'H20', 'V20', 'H21', 'V21', 'H22', 'V22', 'H23', 'V23', 'H24', 'V24']\n"
     ]
    }
   ],
   "source": [
    "# Se carga el CSV de calidad del aire de enero 2020 (separador ; europeo)\n",
    "\n",
    "df_aire = spark.read.csv(\n",
    "    \"/kaggle/input/air-qualy/ene_mo20.csv\",\n",
    "    sep=\";\",\n",
    "    header=True,\n",
    "    inferSchema=True\n",
    ")\n",
    "\n",
    "# Se verificanican algunas columnas clave (fecha + primeras horas)\n",
    "df_aire.select(\"ANO\", \"MES\", \"DIA\", \"H01\", \"H02\", \"H03\").show(5)\n",
    "print(df_aire.columns)"
   ]
  },
  {
   "cell_type": "code",
   "execution_count": null,
   "metadata": {
    "execution": {
     "iopub.execute_input": "2025-06-11T13:43:00.585483Z",
     "iopub.status.busy": "2025-06-11T13:43:00.585129Z",
     "iopub.status.idle": "2025-06-11T13:43:00.873887Z",
     "shell.execute_reply": "2025-06-11T13:43:00.873132Z",
     "shell.execute_reply.started": "2025-06-11T13:43:00.585455Z"
    },
    "trusted": true
   },
   "outputs": [
    {
     "name": "stdout",
     "output_type": "stream",
     "text": [
      "+--------+--------+---+----+-----+\n",
      "|ESTACION|MAGNITUD|DIA|HORA|VALOR|\n",
      "+--------+--------+---+----+-----+\n",
      "|4       |1       |1  |1   |7.0  |\n",
      "|4       |1       |1  |2   |8.0  |\n",
      "|4       |1       |1  |3   |9.0  |\n",
      "|4       |1       |1  |4   |8.0  |\n",
      "|4       |1       |1  |5   |6.0  |\n",
      "|4       |1       |1  |6   |6.0  |\n",
      "|4       |1       |1  |7   |5.0  |\n",
      "|4       |1       |1  |8   |5.0  |\n",
      "|4       |1       |1  |9   |4.0  |\n",
      "|4       |1       |1  |10  |5.0  |\n",
      "+--------+--------+---+----+-----+\n",
      "only showing top 10 rows\n",
      "\n"
     ]
    }
   ],
   "source": [
    "# Se reestructura el DataFrame de \"ancho\" a \"largo\" con stack()\n",
    "# Se convierten las columnas H01–H24 en dos columnas nuevas: HORA y VALOR\n",
    "columnas_stack = \",\".join([f\"'{i}', H{str(i).zfill(2)}\" for i in range(1, 25)])\n",
    "\n",
    "df_largo = df_aire.select(\n",
    "    \"PROVINCIA\", \"MUNICIPIO\", \"ESTACION\", \"MAGNITUD\", \"ANO\", \"MES\", \"DIA\",\n",
    "    expr(f\"stack(24, {columnas_stack}) as (HORA, VALOR)\")\n",
    ")\n",
    "\n",
    "# Se muestran los primeros resultados del nuevo formato largo\n",
    "df_largo.select(\"ESTACION\", \"MAGNITUD\", \"DIA\", \"HORA\", \"VALOR\").show(10, truncate=False)\n"
   ]
  },
  {
   "cell_type": "code",
   "execution_count": null,
   "metadata": {
    "execution": {
     "iopub.execute_input": "2025-06-11T13:53:25.563964Z",
     "iopub.status.busy": "2025-06-11T13:53:25.563637Z",
     "iopub.status.idle": "2025-06-11T13:53:26.441654Z",
     "shell.execute_reply": "2025-06-11T13:53:26.440154Z",
     "shell.execute_reply.started": "2025-06-11T13:53:25.563942Z"
    },
    "trusted": true
   },
   "outputs": [
    {
     "name": "stdout",
     "output_type": "stream",
     "text": [
      "24\n",
      "+--------+\n",
      "|MAGNITUD|\n",
      "+--------+\n",
      "|       1|\n",
      "|       6|\n",
      "|       7|\n",
      "|       8|\n",
      "|       9|\n",
      "|      10|\n",
      "|      12|\n",
      "|      14|\n",
      "|      20|\n",
      "|      30|\n",
      "|      35|\n",
      "|      42|\n",
      "|      43|\n",
      "|      44|\n",
      "+--------+\n",
      "\n"
     ]
    }
   ],
   "source": [
    "# Se calcula el número de estaciones distintas presentes en el dataset\n",
    "print (df_largo.select(\"ESTACION\").distinct().count())\n",
    "\n",
    "# Se muestran las magnitudes distintas registradas en el fichero de enero\n",
    "# (cada valor representa un contaminante diferente)\n",
    "df_largo.select(\"MAGNITUD\").distinct().orderBy(\"MAGNITUD\").show()"
   ]
  },
  {
   "cell_type": "code",
   "execution_count": null,
   "metadata": {
    "execution": {
     "iopub.execute_input": "2025-06-11T14:32:03.607587Z",
     "iopub.status.busy": "2025-06-11T14:32:03.607252Z",
     "iopub.status.idle": "2025-06-11T14:32:04.559002Z",
     "shell.execute_reply": "2025-06-11T14:32:04.554940Z",
     "shell.execute_reply.started": "2025-06-11T14:32:03.607568Z"
    },
    "trusted": true
   },
   "outputs": [
    {
     "name": "stdout",
     "output_type": "stream",
     "text": [
      "+--------+--------------------------+\n",
      "|MAGNITUD|NOMBRE                    |\n",
      "+--------+--------------------------+\n",
      "|1       |SO₂ (Dióxido de azufre)   |\n",
      "|6       |CO (Monóxido de carbono)  |\n",
      "|7       |NO (Monóxido de nitrógeno)|\n",
      "|8       |NO₂ (Dióxido de nitrógeno)|\n",
      "|9       |PM10 (Partículas ≤10µm)   |\n",
      "|10      |PM2.5 (Partículas ≤2.5µm) |\n",
      "|12      |NOx (Óxidos de nitrógeno) |\n",
      "|14      |O₃ (Ozono)                |\n",
      "|20      |Tolueno                   |\n",
      "|30      |Desconocido               |\n",
      "|35      |Benceno                   |\n",
      "|42      |Desconocido               |\n",
      "|43      |Meta-xileno               |\n",
      "|44      |Para-xileno               |\n",
      "+--------+--------------------------+\n",
      "\n"
     ]
    }
   ],
   "source": [
    "# Diccionario solo con las magnitudes presentes en el dataset\n",
    "magnitudes_dict = {\n",
    "    1: \"SO₂ (Dióxido de azufre)\",\n",
    "    6: \"CO (Monóxido de carbono)\",\n",
    "    7: \"NO (Monóxido de nitrógeno)\",\n",
    "    8: \"NO₂ (Dióxido de nitrógeno)\",\n",
    "    9: \"PM10 (Partículas ≤10µm)\",\n",
    "    10: \"PM2.5 (Partículas ≤2.5µm)\",\n",
    "    12: \"NOx (Óxidos de nitrógeno)\",\n",
    "    14: \"O₃ (Ozono)\",\n",
    "    20: \"Tolueno\",\n",
    "    35: \"Benceno\",\n",
    "    43: \"Meta-xileno\",\n",
    "    44: \"Para-xileno\"\n",
    "}\n",
    "\n",
    "# Se crea un DataFrame con los valores encontrados\n",
    "magnitudes_presentes = df_largo.select(\"MAGNITUD\").distinct().rdd.flatMap(lambda x: x).collect()\n",
    "\n",
    "# Se genera la lista de Rows con nombre\n",
    "info_magnitudes = [Row(MAGNITUD=mag, NOMBRE=magnitudes_dict.get(mag, \"Desconocido\")) for mag in magnitudes_presentes]\n",
    "\n",
    "# Se crea DataFrame y se muestra\n",
    "df_mags = spark.createDataFrame(info_magnitudes)\n",
    "df_mags.orderBy(\"MAGNITUD\").show(truncate=False)"
   ]
  },
  {
   "cell_type": "code",
   "execution_count": null,
   "metadata": {
    "execution": {
     "iopub.execute_input": "2025-06-11T15:02:02.414941Z",
     "iopub.status.busy": "2025-06-11T15:02:02.414648Z",
     "iopub.status.idle": "2025-06-11T15:02:02.701547Z",
     "shell.execute_reply": "2025-06-11T15:02:02.700659Z",
     "shell.execute_reply.started": "2025-06-11T15:02:02.414923Z"
    },
    "trusted": true
   },
   "outputs": [
    {
     "data": {
      "text/plain": [
       "3672"
      ]
     },
     "execution_count": 42,
     "metadata": {},
     "output_type": "execute_result"
    }
   ],
   "source": [
    "# Se filtra el número de registros correspondientes al día 18 de enero de 2020\n",
    "df_largo.filter(\n",
    "    (F.col(\"ANO\") == 2020) &\n",
    "    (F.col(\"MES\") == 1) &\n",
    "    (F.col(\"DIA\") == 18)\n",
    ").count()\n"
   ]
  },
  {
   "cell_type": "code",
   "execution_count": null,
   "metadata": {
    "execution": {
     "iopub.execute_input": "2025-06-11T15:03:54.157724Z",
     "iopub.status.busy": "2025-06-11T15:03:54.157377Z",
     "iopub.status.idle": "2025-06-11T15:03:54.955227Z",
     "shell.execute_reply": "2025-06-11T15:03:54.954354Z",
     "shell.execute_reply.started": "2025-06-11T15:03:54.157691Z"
    },
    "trusted": true
   },
   "outputs": [
    {
     "name": "stdout",
     "output_type": "stream",
     "text": [
      "+---+-------------+\n",
      "|DIA|Media_SO2_12h|\n",
      "+---+-------------+\n",
      "|1  |9.5          |\n",
      "|2  |11.2         |\n",
      "|3  |8.6          |\n",
      "|4  |5.4          |\n",
      "|5  |6.0          |\n",
      "|6  |7.0          |\n",
      "|7  |11.1         |\n",
      "|8  |12.4         |\n",
      "|9  |12.8         |\n",
      "|10 |6.5          |\n",
      "|11 |5.6          |\n",
      "|12 |8.0          |\n",
      "|13 |10.3         |\n",
      "|14 |8.2          |\n",
      "|15 |8.1          |\n",
      "|16 |8.2          |\n",
      "|17 |5.9          |\n",
      "|18 |5.5          |\n",
      "|19 |4.5          |\n",
      "|20 |4.6          |\n",
      "+---+-------------+\n",
      "only showing top 20 rows\n",
      "\n"
     ]
    }
   ],
   "source": [
    "# Se calcula la media de dióxido de azufre (MAGNITUD 1) a las 12h de cada día\n",
    "\n",
    "df_largo.filter(\n",
    "    (F.col(\"MAGNITUD\") == 1) & (F.col(\"HORA\") == \"12\")\n",
    ").groupBy(\"DIA\") \\\n",
    " .agg(F.avg(\"VALOR\").alias(\"Media_SO2_12h\")) \\\n",
    " .orderBy(\"DIA\") \\\n",
    " .show(truncate=False)\n"
   ]
  }
 ],
 "metadata": {
  "kaggle": {
   "accelerator": "none",
   "dataSources": [
    {
     "datasetId": 7638908,
     "sourceId": 12130579,
     "sourceType": "datasetVersion"
    },
    {
     "datasetId": 7639499,
     "sourceId": 12131397,
     "sourceType": "datasetVersion"
    }
   ],
   "dockerImageVersionId": 31040,
   "isGpuEnabled": false,
   "isInternetEnabled": true,
   "language": "python",
   "sourceType": "notebook"
  },
  "kernelspec": {
   "display_name": "Python 3",
   "language": "python",
   "name": "python3"
  },
  "language_info": {
   "codemirror_mode": {
    "name": "ipython",
    "version": 3
   },
   "file_extension": ".py",
   "mimetype": "text/x-python",
   "name": "python",
   "nbconvert_exporter": "python",
   "pygments_lexer": "ipython3",
   "version": "3.11.11"
  }
 },
 "nbformat": 4,
 "nbformat_minor": 4
}
